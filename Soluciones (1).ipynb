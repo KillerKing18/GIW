{
 "cells": [
  {
   "cell_type": "markdown",
   "metadata": {},
   "source": [
    "#### Ejercicio 1"
   ]
  },
  {
   "cell_type": "code",
   "execution_count": 5,
   "metadata": {
    "scrolled": true
   },
   "outputs": [
    {
     "name": "stdout",
     "output_type": "stream",
     "text": [
      "Introduzca la cadena primera\n",
      "cocacola\n",
      "Introduzca la cadena segunda\n",
      "ola\n",
      "['c', 'o', 'c', 'a', 'c', 'o', 'l', 'a']\n"
     ]
    },
    {
     "data": {
      "text/plain": [
       "'ola'"
      ]
     },
     "execution_count": 5,
     "metadata": {},
     "output_type": "execute_result"
    }
   ],
   "source": [
    "cadena1 = list(input(\"Introduzca la cadena primera\\n\"))\n",
    "cadena2 = list(input(\"Introduzca la cadena segunda\\n\"))\n",
    "patron(cadena1,cadena2)"
   ]
  },
  {
   "cell_type": "code",
   "execution_count": 6,
   "metadata": {},
   "outputs": [],
   "source": [
    "def patron(cadena1, cadena2):\n",
    "    bestStr = \"\"\n",
    "    if(len(cadena2) > len(cadena1)):\n",
    "        cadena1, cadena2 = cadena2, cadena1\n",
    "    i = 0\n",
    "    while i < len(cadena2):\n",
    "        currChar = i\n",
    "        currStr = \"\"\n",
    "        j = 0\n",
    "        finish = False\n",
    "        while j < len(cadena1) and not finish:\n",
    "            if cadena1[j] == cadena2[i]:\n",
    "                i = i + 1\n",
    "                finish = i == len(cadena2)\n",
    "                currStr = currStr + cadena1[j]\n",
    "                if len(currStr) > len(bestStr):\n",
    "                    bestStr = currStr\n",
    "            else:\n",
    "                i = currChar\n",
    "                currStr = \"\"\n",
    "            j = j + 1\n",
    "        i = i + 1\n",
    "    return bestStr"
   ]
  },
  {
   "cell_type": "code",
   "execution_count": null,
   "metadata": {},
   "outputs": [],
   "source": []
  }
 ],
 "metadata": {
  "kernelspec": {
   "display_name": "Python 3",
   "language": "python",
   "name": "python3"
  },
  "language_info": {
   "codemirror_mode": {
    "name": "ipython",
    "version": 3
   },
   "file_extension": ".py",
   "mimetype": "text/x-python",
   "name": "python",
   "nbconvert_exporter": "python",
   "pygments_lexer": "ipython3",
   "version": "3.6.5"
  }
 },
 "nbformat": 4,
 "nbformat_minor": 2
}
