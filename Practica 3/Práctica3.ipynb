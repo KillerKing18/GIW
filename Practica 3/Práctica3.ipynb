{
 "cells": [
  {
   "cell_type": "markdown",
   "metadata": {},
   "source": [
    "### Práctica de Formatos de datos: XML"
   ]
  },
  {
   "cell_type": "markdown",
   "metadata": {},
   "source": [
    "El objetivo de esta práctica es crear una aplicación simple para llegar determinados edificios monumentales de Madrid. Para ello se van a utilizar dos APIS diferentes ofrecidas por el portal de datos abiertos del ayuntamiento de Madrid.\n",
    "\n",
    "En primer lugar se va a usar el catálogo \"Edificios de carácter monumental\". Este catálogo ofrece una relación de edificios artísticos de la ciudad de Madrid, con datos de dirección y de localización para georeferenciarlos. No se trata de una relación exhaustiva, sino de aquellos monumentos y edificios de los cuales ya figura información en la web municipal. El siguiente trozo de código permite recuperar el archivo xml en cuestion, y lo almacena en disco."
   ]
  },
  {
   "cell_type": "code",
   "execution_count": 40,
   "metadata": {},
   "outputs": [],
   "source": [
    "import urllib.request\n",
    "from xml.etree import ElementTree\n",
    "#Crea el arbol ElementTree\n",
    "def createTree():\n",
    "    x = urllib.request.urlopen('https://datos.madrid.es/egob/catalogo/208844-0-monumentos-edificios.xml')\n",
    "    a = ElementTree.parse(x)\n",
    "    return a"
   ]
  },
  {
   "cell_type": "markdown",
   "metadata": {},
   "source": [
    "__[Ejercicio 1 [3 puntos]]__\n",
    "\n",
    "Se pide mostrar al usuario un listado de los nombres de los monumentos que contiene el archivo con el objetivo de que elija uno de los monumentos. Para facilitar la selección del monumento se puede asignar a cada monumento un número. Fíjate que el nombre que se quiere recuperar es aquel que aparece dentro de las etiquetas <atributo nombre=\"NOMBRE\">. Por ejemplo en el caso del \"Banco de España\" sería:\n",
    "    \n",
    "    <contenido>\n",
    "        <tipo>EntidadesYOrganismos</tipo>\n",
    "        <atributos idioma=\"es\">\n",
    "            <atributo nombre=\"ID-ENTIDAD\">13947</atributo>\n",
    "            <atributo nombre=\"NOMBRE\">Banco de España</atributo>\n",
    "            \n",
    "A continuación se le mostrará por pantalla toda la información acerca del monumento de una manera amigable (es decir sin etiquetas)."
   ]
  },
  {
   "cell_type": "code",
   "execution_count": 37,
   "metadata": {},
   "outputs": [],
   "source": [
    "def displayAndList(arbol):\n",
    "    lista = []\n",
    "    i = 1\n",
    "    for nodo in arbol.iter(): #Todos se llaman atributo\n",
    "        if nodo.attrib.get(\"nombre\") == \"NOMBRE\":\n",
    "            print(str(i) + \"\\t\" + nodo.text)\n",
    "            lista.append(nodo.text)\n",
    "            i = i + 1 \n",
    "    return lista"
   ]
  },
  {
   "cell_type": "code",
   "execution_count": 38,
   "metadata": {},
   "outputs": [],
   "source": [
    "def checkCorrectness(lista, caso):\n",
    "    inputCorrecto = False\n",
    "    while not inputCorrecto:\n",
    "        elemento = input('\\nIntroduce el numero del '+ caso + \": \")\n",
    "        try:\n",
    "            if int(elemento) > 0 :\n",
    "                indice = int(elemento)\n",
    "                elemento = lista[int(elemento) - 1]     \n",
    "                inputCorrecto = True\n",
    "            else:\n",
    "                print(\"\\nError. Introduce un numero positivo.\")\n",
    "        except:\n",
    "            print(\"\\nError. Introduce un numero correcto.\") # Necesitamos numeros\n",
    "    return indice"
   ]
  },
  {
   "cell_type": "code",
   "execution_count": 41,
   "metadata": {},
   "outputs": [
    {
     "name": "stdout",
     "output_type": "stream",
     "text": [
      "1\tBanco de España\n",
      "2\tBasílica Pontificia de San Miguel\n",
      "3\tBiblioteca Nacional de España\n",
      "4\tBolsa de Madrid\n",
      "5\tCasa de América\n",
      "6\tCasa de Cisneros\n",
      "7\tCasa de La Panadería\n",
      "8\tCasa de La Villa. Ayuntamiento de Madrid\n",
      "9\tCasa de Velázquez\n",
      "10\tCasón del Buen Retiro\n",
      "11\tCastillo de la Alameda\n",
      "12\tCatedral Santa María la Real de la Almudena\n",
      "13\tCentro de Estudios Políticos y Constitucionales\n",
      "14\tCentro Social y Cultural La Casa Encendida\n",
      "15\tCírculo de Bellas Artes\n",
      "16\tConde Duque\n",
      "17\tCongreso de los Diputados\n",
      "18\tConsejo de Estado\n",
      "19\tConvento de las Comendadoras de Santiago\n",
      "20\tEdificio Metrópolis\n",
      "21\tErmita de San Antonio de la Florida (Museo)\n",
      "22\tErmita de San Isidro\n",
      "23\tErmita de Santa María la Antigua\n",
      "24\tErmita Virgen del Puerto\n",
      "25\tEstación ferroviaria Madrid Puerta de Atocha\n",
      "26\tFundación BBVA. Palacio del Marqués de Salamanca\n",
      "27\tGalería de Cristal del Palacio de Cibeles\n",
      "28\tIglesia Catedral de las Fuerzas Armadas\n",
      "29\tIglesia Corpus Christi (Jerónimas Recoletas)\n",
      "30\tIglesia de las Calatravas (Concepción Real de Calatrava)\n",
      "31\tIglesia Madres Redentoristas\n",
      "32\tIglesia San Antonio de los Alemanes\n",
      "33\tIglesia San Ildefonso (Monasterio de las Trinitarias Descalzas)\n",
      "34\tIglesia San Pedro el Viejo\n",
      "35\tInstituto Cervantes\n",
      "36\tIstituto Italiano di Cultura de Madrid\n",
      "37\tJardines del Campo del Moro\n",
      "38\tMinisterio de Hacienda. Sede calle Alcalá\n",
      "39\tMinisterio de Justicia\n",
      "40\tMonasterio de Benedictinas\n",
      "41\tMonasterio de las Descalzas Reales\n",
      "42\tMonumento Homenaje a las Víctimas del 11 de marzo\n",
      "43\tMuseo de Escultura al Aire Libre de la Castellana\n",
      "44\tMuseo de Historia de Madrid\n",
      "45\tMuseo de la Real Academia de Bellas Artes de San Fernando\n",
      "46\tMuseo del Ferrocarril de Madrid\n",
      "47\tMuseo Lázaro Galdiano\n",
      "48\tMuseo Nacional de Artes Decorativas\n",
      "49\tMuseo Nacional de Ciencias Naturales\n",
      "50\tMuseo Nacional Thyssen-Bornemisza\n",
      "51\tPalacio de Buenavista. Cuartel General del Ejército de Tierra\n",
      "52\tPalacio de Cibeles\n",
      "53\tPalacio de Liria\n",
      "54\tPalacio de Santoña\n",
      "55\tPalacio Real de El Pardo\n",
      "56\tPalacio Real de Madrid\n",
      "57\tPanteón de Hombres Ilustres\n",
      "58\tParroquia Nuestra Señora del Buen Consejo y San Isidro\n",
      "59\tParroquia San Fermín de los Navarros\n",
      "60\tParroquia San Ginés\n",
      "61\tParroquia San José\n",
      "62\tParroquia San Manuel y San Benito\n",
      "63\tParroquia San Marcos\n",
      "64\tParroquia San Millán y San Cayetano\n",
      "65\tParroquia San Nicolás de Bari de los Servitas\n",
      "66\tParroquia Santa Bárbara\n",
      "67\tParroquia Santa Cruz\n",
      "68\tParroquia Santiago y San Juan Bautista\n",
      "69\tPlaza de Oriente\n",
      "70\tPlaza Mayor\n",
      "71\tPlaza Monumental de Toros de las Ventas\n",
      "72\tPuerta del Sol\n",
      "73\tReal Academia de Ciencias Morales y Políticas\n",
      "74\tReal Academia de Jurisprudencia y Legislación\n",
      "75\tReal Academia de la Historia\n",
      "76\tReal Academia Nacional de Farmacia\n",
      "77\tReal Basílica San Francisco el Grande\n",
      "78\tReal Colegio Santa Isabel - La Asunción\n",
      "79\tReal Fábrica de Tapices\n",
      "80\tReal Jardín Botánico\n",
      "81\tReal Monasterio de la Encarnación\n",
      "82\tReal Monasterio de Santa Isabel\n",
      "83\tReal Oratorio del Caballero de Gracia\n",
      "84\tSala de Exposiciones Canal de Isabel II\n",
      "85\tSenado\n",
      "86\tSociedad General de Autores y Editores (SGAE)\n",
      "87\tTemplo de Debod\n",
      "88\tTribunal de Cuentas\n",
      "89\tTribunal Supremo\n",
      "\n",
      "Introduce el numero del monumento: 4\n",
      "14211\n",
      "Bolsa de Madrid\n",
      "Es el principal mercado de valores de España. Tiene su sede en el Palacio de la Bolsa de Madrid.   Visitas guiadas al Palacio de la Bolsa   Todos los días laborables, en horario de mañana, la Bolsa de Madrid abre sus puertas al público para que puedan recorrer el Palacio de la Bolsa. Todas las visitas son guiadas por personal de la Bolsa de Madrid, con objeto de poder aclarar las preguntas del público, ofreciendo así una visita dinámica y participativa.  La visita tiene una duración aproximada de 60 minutos.   Visitas individuales    Todos los Jueves a las 12 horas.  Reservas:  visitas@grupobme.es     Visitas de grupos    Centros de Bachiller (colegios, Institutos,  etc )  Otros grupos: profesionales, universidades, centros de formación profesional, asociaciones,  etc   Horario: Desde las 10 horas de lunes a viernes  Grupos de 30 personas como máximo  Edad mínima: 16 años\n",
      "Metro: Banco de España (línea 2)  Bus: 1, 2, 5, 9, 10, 15, 20, 34\n",
      "Descripción monumental:  diseñado por Enrique Repulles y Vargas en 1884-93. Edificio representativo de estilo neoclásico, en el que, aprovechando un solar irregular, se organiza perfectamente el complejo programa. Interesante sala de operaciones semicircular cubierta por una bóveda de hierro y cristal.\n",
      "3\n",
      "http://www.madrid.es/sites/v/index.jsp?vgnextchannel=9e4c43db40317010VgnVCM100000dc0ca8c0RCRD&vgnextoid=0a9d81eb5f51c010VgnVCM2000000c205a0aRCRD\n",
      "\n",
      "                \n",
      "LEALTAD\n",
      "PLAZA\n",
      "V\n",
      "1\n",
      "Palacio de la Bolsa\n",
      "MADRID\n",
      "MADRID\n",
      "28014\n",
      "LOS JERONIMOS\n",
      "RETIRO\n",
      "441276\n",
      "4474259\n",
      "40.41688576337496\n",
      "-3.692184322678944\n",
      "\n",
      "                \n",
      "917 095 000 / 915 891 184 (Protector del inversor)\n",
      "infobolsamadrid@grupobme.es\n",
      "/contenido/entidadesYorganismos/MonumentosEdificiosArtisticos\n"
     ]
    }
   ],
   "source": [
    "arbol = createTree()\n",
    "lista = displayAndList(arbol)\n",
    "indice = checkCorrectness(lista, \"monumento\")\n",
    "lista = list(arbol.iter(\"contenido\"))\n",
    "arbolAux = lista[indice - 1]\n",
    "for nodo in arbolAux.iter(\"atributo\"):\n",
    "    print (nodo.text)"
   ]
  },
  {
   "cell_type": "markdown",
   "metadata": {},
   "source": [
    "Para la segunda parte se va a utilizar la API de la __EMT__. La __EMT__ dispone de un portal de datos abiertos que se puede encontrar en la página http://opendata.emtmadrid.es/Home. El objetivo del mismo es ofrecer diferentes tipos de datos sobre la actividad de los autobuses de la EMT. El acceso a los datos se realiza a través de una API de servicios web. \n",
    "\n",
    "Para poder utilizar la API de servicios, en primer lugar hay que registrarse, lo cual puede hacerse en la página http://opendata.emtmadrid.es/Formulario. El registro devuelve como resultado en un mensaje electrónico, dos valores:\n",
    "\n",
    "* Id de cliente: Identificador de cliente\n",
    "\n",
    "* Pass Key: Password\n",
    "\n",
    "A continuación, hay que elegir el servicio que se quiere utilizar. Hay 4 servicios definidos: BUS, GEO, MEDIA, INFOPARKING y BICIMAD. Cada servicio tiene asociado un conjunto de métodos que al invocarlos, devuelven un resultado. Por ejemplo, el servicio BUS dispone del servicio __\"GetRouteLines\"__ que obtiene el itinerario de una línea (o varias líneas separadas por el carácter pipe(|)), con los vértices para construir las rectas del recorrido y las coordenadas UTM de los ejes viales y los códigos de parada. Si se quiere invocar desde Python, se puede hacer usando el siguiente código:"
   ]
  },
  {
   "cell_type": "code",
   "execution_count": null,
   "metadata": {
    "scrolled": false
   },
   "outputs": [],
   "source": [
    "import requests\n",
    "datos = {\n",
    "    'idClient':'WEB.SERV.cbilbao@ucm.es',\n",
    "    'PassKey':'4C22FDD0-EE62-4D7D-B1C8-629D6CB3E299',\n",
    "    'SelectDate': '16/10/2018',\n",
    "    'Lines':'27'\n",
    "}\n",
    "url = 'https://servicios.emtmadrid.es:8443/bus/servicebus.asmx/GetRouteLines'\n",
    "response = requests.post(url, data = datos)\n",
    "print(response.text)"
   ]
  },
  {
   "cell_type": "markdown",
   "metadata": {},
   "source": [
    "En esta práctica se va a trabajar con varios métodos:\n",
    "\n",
    "* Método __'GetStreet'__ del servicio GEO. Este método obtiene una lista de emplazamientos EMT coincidentes con una localización. Cada emplazamiento está compuesto por una lista de paradas EMT situadas dentro de un radio predefinido con todos sus atributos, así como las líneas EMT que pasan por cada parada de la lista. En el documento __Servicios_GEO.pdf__ adjunto a esta práctica, se explica con detalle los parámetros de entrada y el resultado que devuelve este método. El método se puede invocar indicando al menos el nombre de la calle y el número:"
   ]
  },
  {
   "cell_type": "code",
   "execution_count": 22,
   "metadata": {
    "scrolled": false
   },
   "outputs": [],
   "source": [
    "import requests\n",
    "\n",
    "def getInfo(calle):\n",
    "    datos = {\n",
    "        'idClient':'WEB.SERV.cbilbao@ucm.es',\n",
    "        'PassKey':'4C22FDD0-EE62-4D7D-B1C8-629D6CB3E299',\n",
    "        'description': calle,\n",
    "        'streetNumber':'',\n",
    "        'Radius':'',\n",
    "        'Stops':'',\n",
    "        'statistics':'',\n",
    "        'cultureInfo':''\n",
    "    }\n",
    "\n",
    "    url = 'https://servicios.emtmadrid.es:8443/geo/servicegeo.asmx/GetStreet'\n",
    "    try:\n",
    "        response = requests.post(url, data=datos)\n",
    "    except requests.exceptions.ConnectionError:\n",
    "        print(\"Connection refused!!\")\n",
    "    return response"
   ]
  },
  {
   "cell_type": "markdown",
   "metadata": {},
   "source": [
    "El método devuelve un documento XML. Entre los elementos del documento, se encuentran las coordenadas X e Y del lugar buscado. En la búsqueda del ejemplo, la calle búscada tiene como coordenadas UTM X e Y:"
   ]
  },
  {
   "cell_type": "raw",
   "metadata": {},
   "source": [
    "    <CoordinateX>-3.73379031085432</CoordinateX>\n",
    "    <CoordinateY>40.4530280706993</CoordinateY>"
   ]
  },
  {
   "cell_type": "markdown",
   "metadata": {},
   "source": [
    "* Método __'GetStreetRoute'__ del servicio MEDIA. Este método obtiene hasta tres rutas óptimas para ir de un sitio a otro a pie y en autobús. En el documento __Servicios_MEDIA.pdf__ adjunto a esta práctica, se explica con detalle los parámetros de entrada y el resultado que devuelve este método. El método se puede invocar indicando los siguientes parámetros\n",
    "\n",
    "  * idClient: Código de cliente autorizado para la operación y suministrado por EMT.\n",
    "\n",
    "  * passKey: Código de clave asociado al cliente.\n",
    "\n",
    "  * coordinateXFrom: Campo para identificar la posición \"x\" del origen de la ruta a consultar. \n",
    "  \n",
    "  * coordinateYFrom: Campo para identificar la posición \"y\" del origen de la ruta a consultar.\n",
    "\n",
    "  * coordinateXTo: Campo para identificar la posición \"x\" del destino de la ruta a consultar. \n",
    "  \n",
    "  * coordinateYTo: Campo para identificar la posición \"y\" del destino de la ruta a consultar. \n",
    "\n",
    "  * criteriaSelection: Campo que indica el criterio de la búsqueda. Los valores son:\n",
    "  \n",
    "       * 11 - Mínimo tiempo de trayecto\n",
    "    \n",
    "       * 13 - Mínimos trasbordos\n",
    "    \n",
    "       * 14 - Mínimo recorrido a pie"
   ]
  },
  {
   "cell_type": "code",
   "execution_count": null,
   "metadata": {},
   "outputs": [],
   "source": [
    "def getOptimal(x,y, x2, y2): #Ej 3\n",
    "    import requests\n",
    "    datos = {\n",
    "        'idClient':'WEB.SERV.cbilbao@ucm.es',\n",
    "        'PassKey':'4C22FDD0-EE62-4D7D-B1C8-629D6CB3E299',\n",
    "        'statistics':'',\n",
    "        'cultureInfo':'',\n",
    "        'coordinateXFrom': x,\n",
    "        'coordinateYFrom':y,\n",
    "        'originName':'',\n",
    "        'coordinateXTo': x2,\n",
    "        'coordinateYTo':y2,\n",
    "        'destinationName':'',\n",
    "        'criteriaSelection':'13',\n",
    "        'day':'',\n",
    "        'month':'',\n",
    "        'year':'',\n",
    "        'hour':'',\n",
    "        'minute':'',\n",
    "        'GenerarAudio':''\n",
    "    }\n",
    "\n",
    "    url = 'https://servicios.emtmadrid.es:8443/servicemedia/servicemedia.asmx/GetStreetRoute'\n",
    "\n",
    "    try:\n",
    "        response = requests.post(url, data=datos)\n",
    "    except requests.exceptions.ConnectionError:\n",
    "        echo \"Connection refused!!\"\n",
    "\n",
    "    return response"
   ]
  },
  {
   "cell_type": "markdown",
   "metadata": {},
   "source": [
    "El método devuelve un documento XML que contiene información sobre las rutas óptimas (se explica con detalle en el documento __Servicios_MEDIA.pdf__). En particular muestra la siguiente información:\n",
    "\n",
    "* El elemento __DescriptionRouteData__ donde aparece la siguiente información:\n",
    "\n",
    "  * DescriptionDate: Fecha de la ruta.\n",
    "  * DescriptionInitTime: Descripción de hora de inicio de la ruta.\n",
    "  * DescriptionEstimateTimeArrival: Descripción de la hora estimada de llegada.\n",
    "  * Transfers: Trasbordos.\n",
    "  * LongJourney: Duración del viaje.\n",
    "\n",
    "* El elemento __ListSectionRoute__ aparece una lista de subelementos __Section__.Cada uno de ellos, describe parcialmente una parte de la ruta. En un caso ideal, aparecerá un subelemento de __Section__ de tipo __WalkingLeg__  que describe el inicio de la ruta andando, a continuación un conjunto de subelementos de __Section__ de tipo __BusLeg__ que describen cada uno de ellos la ruta en una línea de autobus que forma parte de la ruta buscada, y por último otro subelemento de __Section__ de tipo __WalkingLeg__  que describe el final de la ruta andando.\n",
    "\n",
    "* El elemento __POI__ que muestra información sobre puntos de interés que se encuentran a lo largo de la ruta."
   ]
  },
  {
   "cell_type": "markdown",
   "metadata": {},
   "source": [
    "Se pide:\n",
    "\n",
    " __[Ejercicio 2 [2 puntos]]__\n",
    "\n",
    "Crear una función que dada una calle de Madrid, devuelva las coordenadas X e Y de la calle.\n",
    "\n",
    " "
   ]
  },
  {
   "cell_type": "code",
   "execution_count": 34,
   "metadata": {},
   "outputs": [],
   "source": [
    "from xml.etree import ElementTree\n",
    "def coordenadas(calle):\n",
    "    info = getInfo(calle)\n",
    "    lista = []\n",
    "    #requests.models.Response es su tipo\n",
    "    file = open(\"response.xml\", \"w\")\n",
    "    file.write(info.text)\n",
    "    file.close()\n",
    "    file = open(\"response.xml\", \"r\")\n",
    "    arbol = ElementTree.parse(file)\n",
    "    file.close()\n",
    "    raiz = arbol.getroot()\n",
    "    coordenadaX =  raiz[0][7].text\n",
    "    coordenadaY =  raiz[0][8].text\n",
    "    lista.append(coordenadaX)\n",
    "    lista.append(coordenadaY)\n",
    "    return lista\n"
   ]
  },
  {
   "cell_type": "code",
   "execution_count": 36,
   "metadata": {
    "scrolled": true
   },
   "outputs": [
    {
     "name": "stdout",
     "output_type": "stream",
     "text": [
      "Calle de Madrid(entre comillas simples): 'Profesor José García Santesmases'\n",
      "Coordenada X -3.73379031085432\n",
      "Coordenada Y 40.4530280706993\n"
     ]
    }
   ],
   "source": [
    "#'Profesor José García Santesmases'\n",
    "calle = input(\"Calle de Madrid(entre comillas simples): \")\n",
    "lista = coordenadas(calle)\n",
    "print(\"Coordenada X\", lista[0])\n",
    "print(\"Coordenada Y\", lista[1])\n"
   ]
  },
  {
   "cell_type": "markdown",
   "metadata": {},
   "source": [
    "__[Ejercicio 3 [5 puntos]]__\n",
    "\n",
    "Usando la función anterior completa el ejercicio 1. Para ello, se pide crear una función que solicite al usuario una calle de Madrid y obtenga la ruta más óptima para ir desde esa calle al monumento seleccionado por el usuario usando autobuses de la EMT. La función deberá imprimir por pantalla, la siguiente información:\n",
    "\n",
    " * Fecha de la ruta.\n",
    " \n",
    " * Hora de inicio de la ruta.\n",
    " \n",
    " * Hora estimada de llegada\n",
    " \n",
    " * Número de trasbordos.\n",
    " \n",
    " * Duración del viaje.\n",
    " \n",
    " * Descripción textual de la ruta.\n",
    " \n",
    " Usando el ejemplo de salida sería:\n",
    " \n",
    " * Fecha de la ruta: 26/10/2017\n",
    " \n",
    " * Hora de inicio de la ruta: 03:55\n",
    " \n",
    " * Hora estimada de llegada: 05:28\n",
    " \n",
    " * Número de trasbordos: 1\n",
    " \n",
    " * Duración del viaje: 93\n",
    " \n",
    " * Descripción textual de la ruta:\n",
    " \n",
    "     * Caminar 42' hasta parada 3125 - EMILIO VARGAS-ARTURO SORIA, linea N4\n",
    "     \n",
    "     * 28' en autobús (línea N4) hasta parada 449 - SERRANO-ORTEGA Y GASSET\n",
    "     \n",
    "     * Desde parada 449 caminar 5' hasta parada 61 - Castellana-Ministerio Interior, linea N25\n",
    " \n",
    "     * 15' en autobús (línea N25) hasta parada 3691 - SOL-SEVILLA\n",
    "\n",
    "     * Desde parada 3691 caminar 3'  \n",
    "\n",
    "#### Normas de entrega\n",
    "\n",
    "* Fecha tope de entrega: 18/10/2018\n",
    "* La entrega se realizará subiendo al campus virtual un notebook de Jupyter con la solución. El archivo tendrá como nombre FormatosII_GrupoX donde X será el número de grupo correspondiente."
   ]
  },
  {
   "cell_type": "code",
   "execution_count": null,
   "metadata": {},
   "outputs": [],
   "source": [
    "calle = input(\"Calle de Madrid(entre comillas simples)\")\n",
    "lista = coordenadas(calle)\n",
    "x = lista[0]\n",
    "y = lista[1]\n",
    "##TODO Conseguir las coordenadas de ese monumento (x2,y2)\n",
    "optimo = getOptimo(x,y,x2,y2)\n",
    "#Fecha de la ruta\n",
    "#Hora de inicio de la ruta\n",
    "#Hora estimada de llegada\n",
    "#Numero de transbordos\n",
    "#Duracion del viaje\n",
    "#Descripción textual de la ruta"
   ]
  }
 ],
 "metadata": {
  "kernelspec": {
   "display_name": "Python 3",
   "language": "python",
   "name": "python3"
  },
  "language_info": {
   "codemirror_mode": {
    "name": "ipython",
    "version": 3
   },
   "file_extension": ".py",
   "mimetype": "text/x-python",
   "name": "python",
   "nbconvert_exporter": "python",
   "pygments_lexer": "ipython3",
   "version": "3.6.5"
  }
 },
 "nbformat": 4,
 "nbformat_minor": 2
}
