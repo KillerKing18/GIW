{
 "cells": [
  {
   "cell_type": "markdown",
   "metadata": {},
   "source": [
    "### Práctica sobre Desarrollo de aplicaciones web con Bottle"
   ]
  },
  {
   "cell_type": "markdown",
   "metadata": {},
   "source": [
    "Se desea ampliar la práctica 3 sobre los servicios web de la EMT creando una aplicación web que actúe a modo de capa de presentación. Para ello se va a utilizar Bottle.\n",
    "\n",
    "Se pide crear una aplicación web que tenga una página principal que mostrará un conjunto enlaces que representan los servicios que ofrece la aplicación[1 punto]:\n",
    "\n",
    "   * __Servicio 1__: Mostrar información sobre un museo. Cuando el usuario pulsa sobre el servicio 1 se le mostrará un formulario en el que dispondrá de un desplegable donde podrá seleccionar un museo. Cuando pulse sobre un botón de tipo \"Enviar\", se le mostrará una nueva página que mostrará la descripción del museo. En la página del formulario como en la del resultado habrá un enlace para volver a la página inicial[3 puntos]\n",
    "   \n",
    "   \n",
    "   * __Servicio 2__:Servicio que obtiene el itinerario óptimo para llegar desde una calle especificada mediante el nombre de la calle y su número hasta un museo seleccionado previamente usando los servicios de la EMT.Cuando el usuario pulsa sobre el servicio 2 se le mostrará un formulario en el que dispondrá de un desplegable donde podrá seleccionar un museo. Así mismo podrá introducir el nombre de una calle y un número, de manera que cuando pulse sobre un botón de \"Enviar\", se le mostrará una nueva página que mostrará la ruta en autobuses para llegar desde la calle indicada hasta el museo que ha seleccionado.En la página del formulario como en la del resultado habrá un enlace para volver a la página inicial[3 puntos]\n",
    "   \n",
    "   \n",
    "   * __Servicio 3__:Servicio de muestra los museos más cercanos a una calle especificada mediante el nombre de la calle y su número. Cuando el usuario pulsa sobre el servicio 3 se le mostrará un formulario donde podrá introducir el nombre de una calle y un número,y una distancia en km. Cuando pulse sobre un botón de \"Enviar\", se le mostrará una nueva página que mostrará la lista de los museos que se encuentran en un radio igual o menor a la distancia introducida con respecto a la calle especificada como entrada.En la página del formulario como en la del resultado habrá un enlace para volver a la página inicial[3 puntos]"
   ]
  },
  {
   "cell_type": "code",
   "execution_count": 2,
   "metadata": {},
   "outputs": [],
   "source": [
    "# MODELO SERVICIO 1\n",
    "\n",
    "import urllib.request\n",
    "from xml.etree import ElementTree\n",
    "\n",
    "def listaMonumentos():\n",
    "    x = urllib.request.urlopen('https://datos.madrid.es/egob/catalogo/208844-0-monumentos-edificios.xml')\n",
    "    arbol = ElementTree.parse(x)\n",
    "    lista = []\n",
    "\n",
    "    for nodo in arbol.iter(): #Todos se llaman atributo\n",
    "        if nodo.attrib.get(\"nombre\") == \"NOMBRE\":\n",
    "            lista.append(nodo.text)\n",
    "\n",
    "    return lista\n",
    "\n",
    "def elElegido(nombre):\n",
    "    x = urllib.request.urlopen('https://datos.madrid.es/egob/catalogo/208844-0-monumentos-edificios.xml')\n",
    "    arbol = ElementTree.parse(x)\n",
    "    lista = []\n",
    "    \n",
    "    i = 0\n",
    "    for nodo in arbol.iter(): #Todos se llaman atributo\n",
    "        if nodo.attrib.get(\"nombre\") == \"NOMBRE\":\n",
    "            lista.append(nodo.text)\n",
    "            if nodo.text == nombre:\n",
    "                indice = i\n",
    "            i = i + 1\n",
    "\n",
    "    lista = list(arbol.iter(\"contenido\"))\n",
    "    arbolAux = lista[indice - 1]\n",
    "    return arbolAux"
   ]
  },
  {
   "cell_type": "code",
   "execution_count": null,
   "metadata": {},
   "outputs": [
    {
     "name": "stderr",
     "output_type": "stream",
     "text": [
      "Bottle v0.12.13 server starting up (using WSGIRefServer())...\n",
      "Listening on http://0.0.0.0:8080/\n",
      "Hit Ctrl-C to quit.\n",
      "\n",
      "127.0.0.1 - - [01/Nov/2018 23:22:44] \"GET /menu HTTP/1.1\" 200 305\n",
      "127.0.0.1 - - [01/Nov/2018 23:22:44] \"GET /favicon.ico HTTP/1.1\" 404 742\n",
      "127.0.0.1 - - [01/Nov/2018 23:22:47] \"GET /servicio1 HTTP/1.1\" 200 9242\n",
      "127.0.0.1 - - [01/Nov/2018 23:22:47] \"GET /favicon.ico HTTP/1.1\" 404 742\n",
      "127.0.0.1 - - [01/Nov/2018 23:22:49] \"POST /display HTTP/1.1\" 405 740\n",
      "127.0.0.1 - - [01/Nov/2018 23:22:49] \"GET /favicon.ico HTTP/1.1\" 404 742\n"
     ]
    }
   ],
   "source": [
    "# CONTROLADOR\n",
    "\n",
    "from bottle import get, route, run, template\n",
    "\n",
    "@route(\"/menu\")\n",
    "def mostrar_menu():\n",
    "    return '''\n",
    "\t <body>\n",
    "        <h1> Menú Principal</h1>\n",
    "\t\t<table>\n",
    "\t\t<a href = \"/servicio1\">Servicio1: Mostrar información sobre un monumento</a>\n",
    "\t\t<h1></h1>\n",
    "\t\t<a href = \"/servicio2\">Servicio2: Itinerario óptimo</a>\n",
    "\t\t<h1></h1>\n",
    "\t\t<a href = \"/servicio3\">Servicio3: Museos más cercanos</a>\n",
    "\t\t</table>\n",
    "\t</body>\n",
    "</html>'''\n",
    "\n",
    "@route(\"/servicio1\")\n",
    "def servicio1():  \n",
    "    lista = listaMonumentos()\n",
    "    output = template(\"servicio\", Lista = lista, titulo = \"Servicio 1\")\n",
    "    return output\n",
    "\n",
    "@route(\"/servicio2\")\n",
    "def servicio2():\n",
    "    lista = listaMonumentos()\n",
    "    output = template(\"servicio\", Lista = lista, titulo = \"Servicio 2\")\n",
    "    return output\n",
    "\n",
    "@route(\"/servicio3\")\n",
    "def servicio3():\n",
    "    lista = listaMonumentos()\n",
    "    output = template(\"servicio\", Lista = lista, titulo = \"Servicio 3\")\n",
    "    return output\n",
    "\n",
    "@route(\"/display\")\n",
    "def display():\n",
    "    opcion = request.form['Monumentos'] # o ruta en autobuses (2) o lista monumentos (3)\n",
    "    elegido = elElegido(opcion) \n",
    "    output = template(\"display\") \n",
    "    return output\n",
    "\n",
    "run(host = \"0.0.0.0\", port = 8080)"
   ]
  },
  {
   "cell_type": "markdown",
   "metadata": {},
   "source": [
    "## Normas de entrega\n",
    "\n",
    "* Fecha tope de entrega: 01/11/2018\n",
    "* La entrega se realizará subiendo al campus virtual un notebook de Jupyter con la solución. El archivo tendrá como nombre DesarrolloWeb_GrupoX donde X será el número de grupo correspondiente."
   ]
  },
  {
   "cell_type": "code",
   "execution_count": null,
   "metadata": {},
   "outputs": [],
   "source": []
  }
 ],
 "metadata": {
  "kernelspec": {
   "display_name": "Python 3",
   "language": "python",
   "name": "python3"
  },
  "language_info": {
   "codemirror_mode": {
    "name": "ipython",
    "version": 3
   },
   "file_extension": ".py",
   "mimetype": "text/x-python",
   "name": "python",
   "nbconvert_exporter": "python",
   "pygments_lexer": "ipython3",
   "version": "3.7.0"
  }
 },
 "nbformat": 4,
 "nbformat_minor": 2
}
