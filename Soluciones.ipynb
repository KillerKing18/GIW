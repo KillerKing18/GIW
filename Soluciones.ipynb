{
 "cells": [
  {
   "cell_type": "markdown",
   "metadata": {},
   "source": [
    "#### Ejercicio 1"
   ]
  },
  {
   "cell_type": "code",
   "execution_count": null,
   "metadata": {
    "scrolled": true
   },
   "outputs": [],
   "source": [
    "cadena1 = list(input(\"Introduzca la cadena primera\\n\"))\n",
    "cadena2 = list(input(\"Introduzca la cadena segunda\\n\"))\n",
    "patron(cadena1,cadena2)"
   ]
  },
  {
   "cell_type": "code",
   "execution_count": null,
   "metadata": {},
   "outputs": [],
   "source": [
    "def patron(cadena1, cadena2):\n",
    "    bestStr = \"\"\n",
    "    if(len(cadena2) > len(cadena1)):\n",
    "        cadena1, cadena2 = cadena2, cadena1\n",
    "    i = 0\n",
    "    while i < len(cadena2):\n",
    "        currChar = i\n",
    "        currStr = \"\"\n",
    "        j = 0\n",
    "        finish = False\n",
    "        while j < len(cadena1) and not finish:\n",
    "            if cadena1[j] == cadena2[i]:\n",
    "                i = i + 1\n",
    "                finish = i == len(cadena2)\n",
    "                currStr = currStr + cadena1[j]\n",
    "                if len(currStr) > len(bestStr):\n",
    "                    bestStr = currStr\n",
    "            else:\n",
    "                i = currChar\n",
    "                if currStr != \"\":\n",
    "                    j = j - 1\n",
    "                currStr = \"\"\n",
    "            j = j + 1\n",
    "        i = i + 1\n",
    "    return bestStr"
   ]
  },
  {
   "cell_type": "markdown",
   "metadata": {},
   "source": [
    "#### Ejercicio 2"
   ]
  },
  {
   "cell_type": "code",
   "execution_count": null,
   "metadata": {},
   "outputs": [],
   "source": [
    "def funcion(x):\n",
    "    return 1 + x + x**2 + x**3 + x**4\n",
    "\n",
    "def integral(funcion, a, b, n):\n",
    "    i = 0\n",
    "    res = 0\n",
    "    while i < n - 1:\n",
    "        res = res + ((b - a) / n) * funcion(a + i * ((b - a) / n))\n",
    "        i = i + 1\n",
    "    return res\n",
    "\n",
    "integral(funcion, 2, 7, 5)"
   ]
  },
  {
   "cell_type": "markdown",
   "metadata": {},
   "source": [
    "#### Ejercicio 3"
   ]
  },
  {
   "cell_type": "code",
   "execution_count": 6,
   "metadata": {
    "scrolled": false
   },
   "outputs": [
    {
     "name": "stdout",
     "output_type": "stream",
     "text": [
      "Introduzca el nombre del fichero\n",
      "fichero.txt\n",
      "Numero de palabras de cada longitud:\n",
      "    Longitud 4: 2\n",
      "    Longitud 5: 3\n",
      "    Longitud 9: 1\n",
      "    Longitud 2: 1\n",
      "Numero de lineas del archivo: 5\n",
      "Longitud de cada linea:\n",
      "    Linea 1: 11\n",
      "    Linea 2: 1\n",
      "    Linea 3: 10\n",
      "    Linea 4: 5\n",
      "    Linea 5: 14\n",
      "Numero de palabras del archivo: 7\n",
      "Numero de caracteres del archivo: 34\n",
      "Numero de vocales del archivo: 16\n"
     ]
    }
   ],
   "source": [
    "fichero = input(\"Introduzca el nombre del fichero\\n\")\n",
    "\n",
    "analizar(fichero)"
   ]
  },
  {
   "cell_type": "code",
   "execution_count": 5,
   "metadata": {},
   "outputs": [],
   "source": [
    "def analizar(string):\n",
    "    fichero = open(string)\n",
    "    i = 1\n",
    "    longitudLineas = []\n",
    "    numPalabras = 0\n",
    "    numChars = 0\n",
    "    numVocales = 0\n",
    "    longitudPalabras = {}\n",
    "    for linea in fichero:\n",
    "        longitudLineas.append(len(linea))\n",
    "        palabras = linea.split()\n",
    "        numPalabras = numPalabras + len(palabras)\n",
    "        for palabra in palabras:\n",
    "            if longitudPalabras.get(len(palabra)) == None:\n",
    "                longitudPalabras[len(palabra)] = 1\n",
    "            else:\n",
    "                longitudPalabras[len(palabra)] = longitudPalabras[len(palabra)] + 1\n",
    "            numChars = numChars + len(palabra)\n",
    "            for char in palabra:\n",
    "                if char == \"a\" or char == \"e\" or char == \"i\" or char == \"o\" or char == \"u\":\n",
    "                    numVocales = numVocales + 1\n",
    "        i = i + 1\n",
    "    print(\"Numero de palabras de cada longitud:\")\n",
    "    for longitud in longitudPalabras:\n",
    "        print(\"    Longitud \" + str(longitud) + \": \" + str(longitudPalabras[longitud]))\n",
    "    #print(longitudPalabras)\n",
    "    print(\"Numero de lineas del archivo: \" + str(len(longitudLineas)))\n",
    "    print(\"Longitud de cada linea:\")\n",
    "    i = 1\n",
    "    for linea in longitudLineas:\n",
    "        # Poner longitud 0 si la linea es \"\"?\n",
    "        print(\"    Linea \" + str(i) + \": \" + str(longitudLineas[i - 1]))\n",
    "        i = i + 1\n",
    "    #print(longitudLineas)\n",
    "    print(\"Numero de palabras del archivo: \" + str(numPalabras))\n",
    "    print(\"Numero de caracteres del archivo: \" + str(numChars))\n",
    "    print(\"Numero de vocales del archivo: \" + str(numVocales))"
   ]
  },
  {
   "cell_type": "code",
   "execution_count": null,
   "metadata": {},
   "outputs": [],
   "source": []
  }
 ],
 "metadata": {
  "kernelspec": {
   "display_name": "Python 3",
   "language": "python",
   "name": "python3"
  },
  "language_info": {
   "codemirror_mode": {
    "name": "ipython",
    "version": 3
   },
   "file_extension": ".py",
   "mimetype": "text/x-python",
   "name": "python",
   "nbconvert_exporter": "python",
   "pygments_lexer": "ipython3",
   "version": "3.6.5"
  }
 },
 "nbformat": 4,
 "nbformat_minor": 2
}
